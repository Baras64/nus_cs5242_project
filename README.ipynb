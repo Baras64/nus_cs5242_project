{
 "cells": [
  {
   "cell_type": "markdown",
   "metadata": {},
   "source": [
    "# CS5242 Project - Object Detection For Happier Meals"
   ]
  },
  {
   "cell_type": "markdown",
   "metadata": {},
   "source": [
    "## Authors (Group 53)"
   ]
  },
  {
   "cell_type": "markdown",
   "metadata": {},
   "source": [
    "- Abichandani, Harshavardhan Sunil (A0250610X; e0945792@u.nus.edu)\n",
    "- Golong, Hans Christian (A0254246E; e0954647@u.nus.edu) \n",
    "- Kumar, Aditya Ganesh (A0254356B); e0954757@u.nus.edu)"
   ]
  },
  {
   "cell_type": "markdown",
   "metadata": {},
   "source": [
    "## Introduction"
   ]
  },
  {
   "cell_type": "markdown",
   "metadata": {},
   "source": [
    "In McDonald’s (McD) fast-food restaurants, speedy service is of utmost importance. However, mistakes often come with speed, such as in the form of incorrect orders. Such situations not only lead to customer dissatisfaction, but also lost efficiency as staff triage the situation.  \n",
    "\n",
    "We propose a solution in the form of an object detection neural network model. It will be trained to identify and count the number of McD food items on the tray. Its output can then be cross-checked against the order receipt to determine if the correct order was delivered. Such a mechanism will be deployed in the pick-up counter, right before the customer is alerted to collect their order.  "
   ]
  },
  {
   "cell_type": "markdown",
   "metadata": {},
   "source": [
    "## Methodology"
   ]
  },
  {
   "cell_type": "markdown",
   "metadata": {},
   "source": [
    "We will focus on building the object detection model to return one/more instances of the object(s) in frame. We will be limiting our object detection to the following three classes: burgers, drinks, and fries. \n",
    "\n",
    "We intend to build a dataset that consists of images of McD food items on trays. We will only consider images that are still properly in their packaging and on trays, as the order will have just come out of the kitchen.\n",
    "\n",
    "Using this dataset, we will train a variety of models to detect the McD food items in each image. For this, we have chosen to implement and train three neural network models, a vanilla R-CNN model, a Fast R-CNN model, and a YOLO model."
   ]
  },
  {
   "cell_type": "markdown",
   "metadata": {},
   "source": [
    "## GitHub and GDrive Links"
   ]
  },
  {
   "cell_type": "markdown",
   "metadata": {},
   "source": [
    "This source code can also be found hosted on GitHub through this link: https://github.com/Genisis2/nus_cs5242_project"
   ]
  },
  {
   "cell_type": "markdown",
   "metadata": {},
   "source": [
    "Our data and training weights can be found in the GDrive links below. \"Viewer\" permission has been assigned to anyone who tries to access the links below.\n",
    "\n",
    "- Dataset: [mcdondalds_food_items_dataset.zip](https://drive.google.com/file/d/1WpEMUjqeHUDMy4pnpB509xcxIuoqk11a/view?usp=share_link)\n",
    "- Training weights: [training_outputs](https://drive.google.com/drive/folders/1WwTMPfrslSRZOdhuOiPR6g2FELSZvtOb?usp=share_link)\n",
    "- Raw images collected from data collection: [data](https://drive.google.com/drive/folders/1SC1nXB7uGnzJpeU_AYcDb3yvh3zdMXoS?usp=share_link)"
   ]
  },
  {
   "cell_type": "markdown",
   "metadata": {},
   "source": [
    "## Data Collection And Analysis"
   ]
  },
  {
   "cell_type": "markdown",
   "metadata": {},
   "source": [
    "For our process of building a labelled dataset, please refer to [notebooks/1_project_group53_data_collection.ipynb](notebooks/1_project_group53_data_collection.ipynb).\n",
    "\n",
    "For our analysis of our collected data, please refer to [notebooks/2_project_group53_data_analysis.ipynb](notebooks/2_project_group53_data_analysis.ipynb)."
   ]
  },
  {
   "cell_type": "markdown",
   "metadata": {},
   "source": [
    "## R-CNN Implementations"
   ]
  },
  {
   "cell_type": "markdown",
   "metadata": {},
   "source": [
    "Please refer to [notebooks/3_project_group53_rcnn.ipynb](notebooks/1_project_group53_data.ipynb)"
   ]
  },
  {
   "cell_type": "markdown",
   "metadata": {},
   "source": [
    "## YOLO Implementation"
   ]
  },
  {
   "cell_type": "markdown",
   "metadata": {},
   "source": [
    "Please refer to [notebooks/4_project_group53_yolo.ipynb](notebooks/4_project_group53_yolo.ipynb)"
   ]
  },
  {
   "cell_type": "markdown",
   "metadata": {},
   "source": [
    "## Evaluation"
   ]
  },
  {
   "cell_type": "markdown",
   "metadata": {},
   "source": [
    "- Training time per epoch for 3 models\n",
    "- mAP's for each model\n",
    "- Accuracy for each model"
   ]
  },
  {
   "cell_type": "markdown",
   "metadata": {},
   "source": [
    "## Conclusion"
   ]
  },
  {
   "cell_type": "markdown",
   "metadata": {},
   "source": [
    "## References"
   ]
  },
  {
   "cell_type": "markdown",
   "metadata": {},
   "source": [
    "1. "
   ]
  }
 ],
 "metadata": {
  "kernelspec": {
   "display_name": "Python 3.8.13 ('nus_cs5446_project')",
   "language": "python",
   "name": "python3"
  },
  "language_info": {
   "name": "python",
   "version": "3.8.13"
  },
  "orig_nbformat": 4,
  "vscode": {
   "interpreter": {
    "hash": "5a513161f2fd238fd66e6d5196c4741a67009c30fe8631a7913b1a55a9ed22b5"
   }
  }
 },
 "nbformat": 4,
 "nbformat_minor": 2
}
